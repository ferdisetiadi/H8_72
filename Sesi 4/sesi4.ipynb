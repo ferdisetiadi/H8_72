{
 "cells": [
  {
   "cell_type": "code",
   "execution_count": 4,
   "metadata": {},
   "outputs": [
    {
     "name": "stdout",
     "output_type": "stream",
     "text": [
      "['Ganjil', 'Ganjil', 'Genap', 'Ganjil']\n",
      "['Genap', 'Ganjil', 'Ganjil', 'Genap', 'Genap']\n",
      "['Ganjil', 'Ganjil', 'Ganjil']\n",
      "['Genap', 'Genap', 'Genap']\n"
     ]
    }
   ],
   "source": [
    "# Soal 1 Function\n",
    "list1 = [1,3,4,5]\n",
    "list2 = [22,17,19,20,14]\n",
    "list3 = [1,3,5]\n",
    "list4 = [2,4,6]\n",
    "\n",
    "def convertAngka(fn, collection) :\n",
    "    newCollection = []\n",
    "    for item in collection :\n",
    "       newCollection.append(fn(item))\n",
    "    print(newCollection)\n",
    "\n",
    "def sebutAngka(angka):\n",
    "    if angka % 2 == 0 :\n",
    "        return \"Genap\"\n",
    "    else :\n",
    "        return \"Ganjil\"\n",
    "\n",
    "\n",
    "convertAngka(sebutAngka, list1)\n",
    "convertAngka(sebutAngka, list2)\n",
    "convertAngka(sebutAngka, list3)\n",
    "convertAngka(sebutAngka, list4)"
   ]
  },
  {
   "cell_type": "code",
   "execution_count": 68,
   "metadata": {},
   "outputs": [
    {
     "name": "stdout",
     "output_type": "stream",
     "text": [
      "[9800000, 9500000, 10300000]\n"
     ]
    }
   ],
   "source": [
    "# Soal 2 Function\n",
    "list2 = [9100000, 9800000, 9500000, 10300000, 9300000]\n",
    "standard = 9500000\n",
    "\n",
    "def isBelowStandard(angka) :\n",
    "    return angka >= standard\n",
    "\n",
    "hasilFilter = filter(isBelowStandard, list2)\n",
    "\n",
    "hasilFilterList = list(hasilFilter)\n",
    "\n",
    "print(hasilFilterList)\n",
    "\n"
   ]
  },
  {
   "cell_type": "code",
   "execution_count": null,
   "metadata": {},
   "outputs": [],
   "source": [
    "# Soal 3\n",
    "# Soal 3\n",
    "\n",
    "listBuah = [[\"Apel\", 20, 10000],[\"Jeruk\", 15, 15000],[\"Anggur\", 25, 20000]] \n",
    "listCart = []\n",
    "\n",
    "def menu0() :\n",
    "    print(\"Selamat Datang di Pasar Buah\")\n",
    "    print(\"\\nList Menu :\")\n",
    "    print(\"1. Menampilkan Daftar Buah\")\n",
    "    print(\"2. Menambah Buah\")\n",
    "    print(\"3. Menghapus Buah\")\n",
    "    print(\"4. Membeli Buah\")\n",
    "    print(\"5. Exit Program\")\n",
    "    selectedMenu = input(\"Masukkan angka Menu yang ingin dijalankan : \")\n",
    "    if selectedMenu == \"1\" :\n",
    "        menu1()\n",
    "        menu0()\n",
    "    elif selectedMenu == \"2\" :\n",
    "        menu2()\n",
    "        menu1()\n",
    "    elif selectedMenu == \"3\" :\n",
    "        menu3()\n",
    "    elif selectedMenu == \"4\" :\n",
    "        menu4()\n",
    "\n",
    "def menu1() : \n",
    "    print(\"Daftar Buah\\n\")\n",
    "    print(\"{:<8}| {:<10}| {:<10}| {:<10}\".format(\"Index\", \"Nama\", \"Stock\", \"Harga\"))\n",
    "    for i in range(len(listBuah)) :\n",
    "        print(\"{:<8}| {:<10}| {:<10}| {:<10}\".format(i, listBuah[i][0], listBuah[i][1], listBuah[i][2]))\n",
    "   \n",
    "\n",
    "def menu2() : \n",
    "    namaBuah = input(\"{:<20}: \".format(\"Masukkan Nama Buah\"))\n",
    "    stokBuah = int(input(\"{:<20}: \".format(\"Masukkan Stock Buah\")))\n",
    "    hargaBuah = int(input(\"{:<20}: \".format(\"Masukkan Harga Buah\")))\n",
    "    buahBaru = []\n",
    "    buahBaru.append(namaBuah)\n",
    "    buahBaru.append(stokBuah)\n",
    "    buahBaru.append(hargaBuah)\n",
    "    listBuah.append(buahBaru)\n",
    "     \n",
    "\n",
    "def menu3() : \n",
    "    menu1()\n",
    "    buahHapus = int(input(\"Masukkan index buah yang ingin dihapus : \"))\n",
    "    del listBuah[buahHapus]\n",
    "    menu1()\n",
    "    menu0()\n",
    "\n",
    "def menu4() : \n",
    "    menu1()\n",
    "    listCart = []\n",
    "    buy(listCart)\n",
    "\n",
    "def buy(listCart) :\n",
    "    indexBeliBuah = int(input(\"Masukkan index buah yang ingin dibeli : \"))\n",
    "    qtyBeliBuah = int(input(\"Masukkan jumlah yang ingin dibeli : \"))\n",
    "    selectedBuah = listBuah[indexBeliBuah]\n",
    "    print(qtyBeliBuah)\n",
    "    print(selectedBuah[1])\n",
    "    if qtyBeliBuah > selectedBuah[1] :\n",
    "        print(\"Stock tidak cukup, stock {} tinggal {}\".format(selectedBuah[0], selectedBuah[1]))\n",
    "    else :\n",
    "        buahBaru = []\n",
    "        buahBaru.append(selectedBuah[0])\n",
    "        buahBaru.append(selectedBuah[1])\n",
    "        buahBaru.append(selectedBuah[2])\n",
    "        buahBaru.append(selectedBuah[1]*selectedBuah[2])\n",
    "        listCart.append(buahBaru)\n",
    "    print(\"Isi Cart :\")\n",
    "    print(\"{:<10}| {:<10}| {:<10}\".format(\"Nama\", \"Qty\", \"Harga\"))\n",
    "    for i in range(len(listCart)) :\n",
    "        print(\"{:<10}| {:<10}| {:<10}\".format(listCart[i][0], listCart[i][1], listCart[i][2]))\n",
    "    jawaban = \"\"\n",
    "    while(not (jawaban == \"ya\" or jawaban == \"tidak\")) :\n",
    "        jawaban = input(\"Mau beli yang lain tidak? (ya/tidak) = \")\n",
    "    if jawaban == \"ya\" :\n",
    "        buy(listCart)\n",
    "    else :\n",
    "        print(\"Daftar Belanja :\")\n",
    "        print(\"{:<10}| {:<10}| {:<10}| {:<10}\".format(\"Nama\", \"Qty\", \"Harga\", \"Total Harga\"))\n",
    "        totalHarga = 0\n",
    "        for i in range(len(listCart)) :\n",
    "            print(\"{:<10}| {:<10}| {:<10}| {:<10}\".format(listCart[i][0], listCart[i][1], listCart[i][2], listCart[i][3]))\n",
    "            totalHarga = totalHarga + listCart[i][3]\n",
    "        if totalHarga > 0 : \n",
    "            print(\"Total Yang Harus Dibayar = {}\".format(totalHarga))\n",
    "            bayar = int(input(\"Masukkan jumlah uang : \"))\n",
    "            selisih = bayar - totalHarga\n",
    "            while(selisih < 0) :\n",
    "                print(\"Uang anda kurang sebesar {}\".format(selisih * -1))\n",
    "                bayar = int(input(\"Masukkan jumlah uang : \"))\n",
    "                selisih = bayar - totalHarga \n",
    "            if selisih > 0 : \n",
    "                print(\"Terima kasih\")\n",
    "                print(\"\\nUang kembali anda : {}\".format(selisih))\n",
    "            else :\n",
    "                print(\"Terima kasih\")\n",
    "            \n",
    "menu0() "
   ]
  },
  {
   "cell_type": "code",
   "execution_count": 22,
   "metadata": {},
   "outputs": [
    {
     "data": {
      "text/plain": [
       "array([1, 2, 3])"
      ]
     },
     "execution_count": 22,
     "metadata": {},
     "output_type": "execute_result"
    }
   ],
   "source": [
    "# Numpy\n",
    "import numpy as np\n",
    "\n",
    "myList = [1,2,3]\n",
    "np.array(myList)\n",
    "\n",
    "myMatrix = [[1,2,3],[4,5,6],[7,8,9]]\n",
    "np.array(myList)\n",
    "\n"
   ]
  },
  {
   "cell_type": "code",
   "execution_count": 24,
   "metadata": {},
   "outputs": [
    {
     "data": {
      "text/plain": [
       "array([[[ 1,  2,  3],\n",
       "        [ 4,  5,  6],\n",
       "        [ 7,  8,  9]],\n",
       "\n",
       "       [[10, 11, 12],\n",
       "        [13, 14, 15],\n",
       "        [16, 17, 18]],\n",
       "\n",
       "       [[19, 20, 21],\n",
       "        [22, 23, 24],\n",
       "        [25, 26, 27]]])"
      ]
     },
     "execution_count": 24,
     "metadata": {},
     "output_type": "execute_result"
    }
   ],
   "source": [
    "# Exercise 1\n",
    "mulai = int(input(\"Mulai : \"))\n",
    "selesai = int(input(\"Selesai : \"))\n",
    "arr = np.arange(mulai, selesai)\n",
    "\n",
    "level2 = 9\n",
    "arr2 = arr.reshape(3, level2)\n",
    "\n",
    "level3 = 3\n",
    "arr3 = arr.reshape(3, level3, level3)"
   ]
  },
  {
   "cell_type": "code",
   "execution_count": 76,
   "metadata": {},
   "outputs": [
    {
     "name": "stdout",
     "output_type": "stream",
     "text": [
      "[[48  4 15 37]\n",
      " [30 39 18 42]\n",
      " [39 38 18 39]\n",
      " [28 30  1 34]]\n"
     ]
    },
    {
     "data": {
      "text/plain": [
       "array([[37, 15,  4, 48],\n",
       "       [42, 18, 39, 30],\n",
       "       [39, 18, 38, 39],\n",
       "       [34,  1, 30, 28]])"
      ]
     },
     "execution_count": 76,
     "metadata": {},
     "output_type": "execute_result"
    }
   ],
   "source": [
    "# Exercise 2\n",
    "n = int(input(\"Banyak data : \"))\n",
    "mulai = int(input(\"Mulai : \"))\n",
    "selesai = int(input(\"Selesai : \"))\n",
    "\n",
    "arr = np.random.randint(mulai, selesai, n)\n",
    "\n",
    "level2 = 4\n",
    "arr2 = arr.reshape(4, level2)\n",
    "print(arr2)\n",
    "\n",
    "arr2[:,::-1]\n",
    "\n"
   ]
  },
  {
   "cell_type": "code",
   "execution_count": 77,
   "metadata": {},
   "outputs": [
    {
     "name": "stdout",
     "output_type": "stream",
     "text": [
      "[[4. 4. 4. 4. 4. 4. 4. 4. 4. 4.]\n",
      " [4. 0. 0. 0. 0. 0. 0. 0. 0. 4.]\n",
      " [4. 0. 0. 0. 0. 0. 0. 0. 0. 4.]\n",
      " [4. 0. 0. 0. 0. 0. 0. 0. 0. 4.]\n",
      " [4. 0. 0. 0. 0. 0. 0. 0. 0. 4.]\n",
      " [4. 0. 0. 0. 0. 0. 0. 0. 0. 4.]\n",
      " [4. 0. 0. 0. 0. 0. 0. 0. 0. 4.]\n",
      " [4. 0. 0. 0. 0. 0. 0. 0. 0. 4.]\n",
      " [4. 0. 0. 0. 0. 0. 0. 0. 0. 4.]\n",
      " [4. 4. 4. 4. 4. 4. 4. 4. 4. 4.]]\n"
     ]
    }
   ],
   "source": [
    "x = np.ones((10,10))*4\n",
    "# [a:b, c:d]\n",
    "# baris (dari sampai), kolom (dari sampai)\n",
    "x[1:-1,1:-1]=0 \n",
    "print(x)\n"
   ]
  }
 ],
 "metadata": {
  "interpreter": {
   "hash": "69cd3097338547ac79fb9ba1ca542d57c3a77358e72d9796fa6f5b6a24cdb785"
  },
  "kernelspec": {
   "display_name": "Python 3.10.0 64-bit",
   "language": "python",
   "name": "python3"
  },
  "language_info": {
   "codemirror_mode": {
    "name": "ipython",
    "version": 3
   },
   "file_extension": ".py",
   "mimetype": "text/x-python",
   "name": "python",
   "nbconvert_exporter": "python",
   "pygments_lexer": "ipython3",
   "version": "3.9.7"
  },
  "orig_nbformat": 4
 },
 "nbformat": 4,
 "nbformat_minor": 2
}
