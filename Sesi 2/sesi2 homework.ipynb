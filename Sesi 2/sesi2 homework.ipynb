{
 "cells": [
  {
   "cell_type": "code",
   "execution_count": 33,
   "metadata": {},
   "outputs": [
    {
     "name": "stdout",
     "output_type": "stream",
     "text": [
      "*****\n",
      "****\n",
      "***\n",
      "**\n",
      "*\n",
      "**\n",
      "***\n",
      "****\n",
      "*****\n"
     ]
    }
   ],
   "source": [
    "# Soal 1\n",
    "# Bentuk 1\n",
    "\n",
    "for x in range(0, 9, 1) :  \n",
    "    if(x < 5) : \n",
    "        for y in range(0, 5-x, 1) : \n",
    "            print(\"*\", end =\"\")\n",
    "    else :\n",
    "        for y in range(0, x-3, 1) : \n",
    "            print(\"*\", end =\"\")\n",
    "    print (\"\")"
   ]
  },
  {
   "cell_type": "code",
   "execution_count": 32,
   "metadata": {},
   "outputs": [
    {
     "name": "stdout",
     "output_type": "stream",
     "text": [
      "    *    \n",
      "   ***   \n",
      "  *****  \n",
      " ******* \n",
      "*********\n",
      " ******* \n",
      "  *****  \n",
      "   ***   \n",
      "    *    \n"
     ]
    }
   ],
   "source": [
    "# Soal 1\n",
    "# Bentuk 2\n",
    "\n",
    "for x in range(0, 9, 1) :   \n",
    "    for y in range(0, 9, 1) : \n",
    "        if(x < 5) : \n",
    "            if y < 4-x or y > 4+x :\n",
    "                print(\" \", end =\"\")\n",
    "            else :\n",
    "                print(\"*\", end =\"\")\n",
    "        else :  \n",
    "            if (y < x-4) or (y >= 2*x-(x-4)-(2*x-4)+5) :\n",
    "                print(\" \", end =\"\")\n",
    "            else :\n",
    "                print(\"*\", end =\"\") \n",
    "    print (\"\")"
   ]
  },
  {
   "cell_type": "code",
   "execution_count": 40,
   "metadata": {},
   "outputs": [
    {
     "name": "stdout",
     "output_type": "stream",
     "text": [
      "Detail Belanja\n",
      "Apel : 5 x 10000 = 50000\n",
      "Jeruk : 7 x 15000 = 105000\n",
      "Anggur : 6 x 20000 = 120000\n",
      "\n",
      "Total : 275000\n",
      "Terima kasih\n"
     ]
    }
   ],
   "source": [
    "# Soal 2\n",
    "\n",
    "# asumsi \n",
    "# stok apel : 7\n",
    "# stok jeruk : 7\n",
    "# stok anggur : 6\n",
    "\n",
    "stokApel = 7\n",
    "stokJeruk = 7\n",
    "stokAnggur = 6\n",
    "\n",
    "hargaApel = 10000\n",
    "hargaJeruk = 15000\n",
    "hargaAnggur = 20000\n",
    "\n",
    "\n",
    "jumlahApel = int(input(\"Masukkan Jumlah Apel : \"))\n",
    "while(jumlahApel > stokApel) : \n",
    "    jumlahApel = int(input(\"Masukkan Jumlah Apel : \"))  \n",
    "    print(\"\\nStock Apel tinggal : {}\".format(stokApel))\n",
    "\n",
    "jumlahJeruk = int(input(\"Masukkan Jumlah Jeruk : \"))\n",
    "while(jumlahJeruk > stokJeruk) : \n",
    "    jumlahJeruk = int(input(\"Masukkan Jumlah Jeruk : \"))  \n",
    "    print(\"\\nStock Jeruk tinggal : {}\".format(stokJeruk))\n",
    "\n",
    "jumlahAnggur = int(input(\"Masukkan Jumlah Anggur : \"))\n",
    "while(jumlahAnggur > stokAnggur) : \n",
    "    jumlahAnggur = int(input(\"Masukkan Jumlah Anggur : \"))  \n",
    "    print(\"\\nStock Anggur tinggal : {}\".format(stokAnggur))\n",
    "\n",
    "totalHargaApel = jumlahApel * hargaApel\n",
    "totalHargaJeruk = jumlahJeruk * hargaJeruk\n",
    "totalHargaAnggur = jumlahAnggur * hargaAnggur\n",
    "\n",
    "totalHarga = totalHargaApel + totalHargaJeruk + totalHargaAnggur\n",
    "selisih = 0\n",
    "\n",
    "print(\"Detail Belanja\")\n",
    "\n",
    "print(\"Apel : {} x {} = {}\".format(jumlahApel, hargaApel, totalHargaApel))\n",
    "print(\"Jeruk : {} x {} = {}\".format(jumlahJeruk, hargaJeruk, totalHargaJeruk))\n",
    "print(\"Anggur : {} x {} = {}\".format(jumlahAnggur, hargaAnggur, totalHargaAnggur))\n",
    "\n",
    "print(\"\\nTotal : {}\".format(totalHarga))\n",
    "\n",
    "bayar = int(input(\"Masukkan jumlah uang : \"))\n",
    "selisih = bayar - totalHarga\n",
    "while(selisih < 0) :\n",
    "    print(\"Uang anda kurang sebesar {}\".format(selisih * -1))\n",
    "    bayar = int(input(\"Masukkan jumlah uang : \"))\n",
    "    selisih = bayar - totalHarga\n",
    "\n",
    "print(\"Terima kasih\")\n",
    "\n",
    "if selisih > 0 : \n",
    "    print(\"\\nUang kembali anda : {}\".format(selisih))"
   ]
  }
 ],
 "metadata": {
  "interpreter": {
   "hash": "2e5c6628eef985e7fd2fa2aad22c988c5b8aa1d2648cf9c51c543a2a2637c546"
  },
  "kernelspec": {
   "display_name": "Python 3.6.6 64-bit",
   "language": "python",
   "name": "python3"
  },
  "language_info": {
   "codemirror_mode": {
    "name": "ipython",
    "version": 3
   },
   "file_extension": ".py",
   "mimetype": "text/x-python",
   "name": "python",
   "nbconvert_exporter": "python",
   "pygments_lexer": "ipython3",
   "version": "3.10.0"
  },
  "orig_nbformat": 4
 },
 "nbformat": 4,
 "nbformat_minor": 2
}
