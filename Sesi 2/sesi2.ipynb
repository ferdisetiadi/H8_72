{
 "cells": [
  {
   "cell_type": "code",
   "execution_count": 10,
   "metadata": {},
   "outputs": [
    {
     "name": "stdout",
     "output_type": "stream",
     "text": [
      "Angka 7 tergolong bilangan GANJIL\n"
     ]
    }
   ],
   "source": [
    "# Soal 1\n",
    "a = int(input(\"Masukkan angka : \"))\n",
    "type = \"\"\n",
    "if a % 2 == 0 : \n",
    "   type = \"GENAP\"\n",
    "else :\n",
    "   type = \"GANJIL\"\n",
    "    \n",
    "print(\"Angka {} tergolong bilangan {}\".format(a, type))"
   ]
  },
  {
   "cell_type": "code",
   "execution_count": null,
   "metadata": {},
   "outputs": [],
   "source": [
    "# Soal 2\n",
    "imt = 0.0\n",
    "massa = int(input(\"Masukkan Massa (kg) : \"))\n",
    "tinggi = float(input(\"Masukkan Tinggi (cm) : \"))/100\n",
    "imt = massa / (tinggi ** 2)\n",
    "keterangan = \"\"\n",
    "\n",
    "if imt < 18.5 :\n",
    "   keterangan = \"BERAT BADAN KURANG\" \n",
    "elif imt >= 18.5 and  imt <= 24.9 :\n",
    "   keterangan = \"BERAT BADAN IDEAL\"\n",
    "elif imt >= 25 and  imt <= 29.9 :\n",
    "   keterangan = \"BERAT BADAN BERLEBIH\"\n",
    "elif imt >= 30 and  imt <= 39.9 :\n",
    "   keterangan = \"BERAT BADAN SANGAT BERLEBIH\"\n",
    "else :\n",
    "   keterangan = \"OBESITAS\"\n",
    "\n",
    "print(\"Massa {} kg dan tinggi {} m\".format(massa, tinggi))\n",
    "print(\"IMT = {}, {}\".format(imt, keterangan))"
   ]
  },
  {
   "cell_type": "code",
   "execution_count": null,
   "metadata": {},
   "outputs": [],
   "source": [
    "# Soal 3\n",
    "hargaApel = 10000\n",
    "hargaJeruk = 15000\n",
    "hargaAnggur = 20000\n",
    "\n",
    "jumlahApel = int(input(\"Masukkan Jumlah Apel : \"))\n",
    "jumlahJeruk = int(input(\"Masukkan Jumlah Jeruk : \"))\n",
    "jumlahAnggur = int(input(\"Masukkan Jumlah Anggur : \"))\n",
    "\n",
    "totalHargaApel = jumlahApel * hargaApel\n",
    "totalHargaJeruk = jumlahJeruk * hargaJeruk\n",
    "totalHargaAnggur = jumlahAnggur * hargaAnggur\n",
    "\n",
    "totalHarga = totalHargaApel + totalHargaJeruk + totalHargaAnggur\n",
    "selisih = 0\n",
    "\n",
    "print(\"Detail Belanja\")\n",
    "\n",
    "print(\"Apel : {} x {} = {}\".format(jumlahApel, hargaApel, totalHargaApel))\n",
    "print(\"Jeruk : {} x {} = {}\".format(jumlahJeruk, hargaJeruk, totalHargaJeruk))\n",
    "print(\"Anggur : {} x {} = {}\".format(jumlahAnggur, hargaAnggur, totalHargaAnggur))\n",
    "\n",
    "print(\"\\nTotal : {}\".format(totalHarga))\n",
    "\n",
    "bayar = int(input(\"Masukkan jumlah uang : \"))\n",
    "\n",
    "selisih = bayar - totalHarga\n",
    "if selisih < 0 : \n",
    "    print(\"Transaksi anda dibatalkan\")\n",
    "    print(\"uangnya kurang sebesar {}\".format(selisih * -1))\n",
    "elif selisih == 0 :\n",
    "    print(\"Terima kasih\")\n",
    "else :\n",
    "    print(\"Terima kasih\")\n",
    "    print(\"\\nUang kembali anda : {}\".format(selisih))"
   ]
  }
 ],
 "metadata": {
  "interpreter": {
   "hash": "69cd3097338547ac79fb9ba1ca542d57c3a77358e72d9796fa6f5b6a24cdb785"
  },
  "kernelspec": {
   "display_name": "Python 3.10.0 64-bit",
   "language": "python",
   "name": "python3"
  },
  "language_info": {
   "codemirror_mode": {
    "name": "ipython",
    "version": 3
   },
   "file_extension": ".py",
   "mimetype": "text/x-python",
   "name": "python",
   "nbconvert_exporter": "python",
   "pygments_lexer": "ipython3",
   "version": "3.10.0"
  },
  "orig_nbformat": 4
 },
 "nbformat": 4,
 "nbformat_minor": 2
}
