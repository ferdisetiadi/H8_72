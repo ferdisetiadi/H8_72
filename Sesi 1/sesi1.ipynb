{
 "cells": [
  {
   "cell_type": "code",
   "execution_count": null,
   "metadata": {},
   "outputs": [],
   "source": [
    "# Soal 1\n",
    "x = 4.0\n",
    "y = 3.0\n",
    "z = 2.0\n",
    " \n",
    "w = ((x + y * z) / (x * y))  ** z\n",
    "print(w)"
   ]
  },
  {
   "cell_type": "code",
   "execution_count": null,
   "metadata": {},
   "outputs": [],
   "source": [
    "# Soal 2\n",
    "a = int(input(\"Silahkan masukkan angka berapapun : \"))\n",
    "b = a ** 2\n",
    "print(\"Kuadrat dari {} = {}\".format(a, b))"
   ]
  },
  {
   "cell_type": "code",
   "execution_count": null,
   "metadata": {},
   "outputs": [],
   "source": [
    "# Soal 3\n",
    "totalHari = 485\n",
    "tahun = totalHari // 360\n",
    "sisaTahun = totalHari % 360\n",
    "\n",
    "bulan = sisaTahun // 30\n",
    "sisaBulan = sisaTahun % 30\n",
    "\n",
    "minggu = sisaBulan // 7\n",
    "sisaMinggu = sisaBulan % 7\n",
    "\n",
    "print(\"{} tahun {} bulan {} minggu {} hari\".format(tahun, bulan, minggu, sisaMinggu))\n"
   ]
  },
  {
   "cell_type": "code",
   "execution_count": null,
   "metadata": {},
   "outputs": [],
   "source": [
    "# Soal 4\n",
    "\n",
    "y = 49 / 1.4\n",
    "x = 49 - y\n",
    "print (x+2)\n",
    "print (y+2)"
   ]
  },
  {
   "cell_type": "code",
   "execution_count": null,
   "metadata": {},
   "outputs": [],
   "source": [
    "# Soal 5\n",
    "\n",
    "a = 0\n",
    "b = 120\n",
    "x = 12 // 10\n",
    "y = 12 % 10 / 10 * 60\n",
    "\n",
    "print(\"A & B bertabrakan pada pukul {}.{}\".format(9+x, int(y)) )"
   ]
  },
  {
   "cell_type": "code",
   "execution_count": null,
   "metadata": {},
   "outputs": [],
   "source": [
    "# Soal 6\n",
    "apel = int(input(\"Masukkan Jumlah Apel : \"))\n",
    "jeruk = int(input(\"Masukkan Jumlah Jeruk : \"))\n",
    "anggur = int(input(\"Masukkan Jumlah Anggur : \"))\n",
    "\n",
    "hargaApel = 10000\n",
    "hargaJeruk = 15000\n",
    "hargaAnggur = 20000\n",
    "\n",
    "totalApel = apel * hargaApel\n",
    "totalJeruk = jeruk * hargaJeruk\n",
    "totalAnggur = anggur * hargaAnggur\n",
    "\n",
    "grandTotal = totalApel + totalJeruk + totalAnggur\n",
    "\n",
    "print(\"\\nDetail Belanja\")\n",
    "print(\"\\nApel : {} x {} = {}\".format(apel, hargaApel, totalApel))\n",
    "print(\"Jeruk : {} x {} = {}\".format(jeruk, hargaJeruk, totalJeruk))\n",
    "print(\"Anggur : {} x {} = {}\".format(anggur, hargaAnggur, totalAnggur))\n",
    "print(\"\\nTotal : {}\".format(grandTotal))"
   ]
  }
 ],
 "metadata": {
  "language_info": {
   "name": "python"
  },
  "orig_nbformat": 4
 },
 "nbformat": 4,
 "nbformat_minor": 2
}
