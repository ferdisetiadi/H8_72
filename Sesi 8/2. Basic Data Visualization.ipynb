{
 "metadata": {
  "language_info": {
   "codemirror_mode": {
    "name": "ipython",
    "version": 3
   },
   "file_extension": ".py",
   "mimetype": "text/x-python",
   "name": "python",
   "nbconvert_exporter": "python",
   "pygments_lexer": "ipython3",
   "version": 3
  },
  "orig_nbformat": 2
 },
 "nbformat": 4,
 "nbformat_minor": 2,
 "cells": [
  {
   "cell_type": "code",
   "execution_count": null,
   "source": [
    "# Import the matplotlib.pyplot, pandas, and numpy\r\n"
   ],
   "outputs": [],
   "metadata": {}
  },
  {
   "cell_type": "code",
   "execution_count": null,
   "source": [
    "# Read the data from file using read_csv\r\n",
    "austin_weather = \r\n",
    "seattle_weather = "
   ],
   "outputs": [],
   "metadata": {}
  },
  {
   "cell_type": "code",
   "execution_count": null,
   "source": [
    "# Print weather head"
   ],
   "outputs": [],
   "metadata": {}
  },
  {
   "cell_type": "code",
   "execution_count": null,
   "source": [
    "# Make a new dataset as seattle_weather with condition station = 'USW00094290'\r\n"
   ],
   "outputs": [],
   "metadata": {}
  },
  {
   "cell_type": "code",
   "execution_count": null,
   "source": [
    "# Make a new dataset as austin_weather with condition station = 'USW00094290'\r\n"
   ],
   "outputs": [],
   "metadata": {}
  },
  {
   "cell_type": "code",
   "execution_count": null,
   "source": [
    "# Add new column 'Month' to both seattle_weather and austin_weather\r\n",
    "# Make sure index is reset and no column with name index\r\n",
    "seattle_weather[\"MONTH\"] = ['Jan', 'Feb', 'Mar', 'Apr', 'May', 'Jun', 'Jul', 'Aug', 'Sep', 'Oct', 'Nov', 'Dec']\r\n",
    "austin_weather[\"MONTH\"] = ['Jan', 'Feb', 'Mar', 'Apr', 'May', 'Jun', 'Jul', 'Aug', 'Sep', 'Oct', 'Nov', 'Dec']"
   ],
   "outputs": [],
   "metadata": {}
  },
  {
   "cell_type": "code",
   "execution_count": null,
   "source": [
    "# Create a Figure and an Axes with plt.subplots\r\n",
    "fig, ax = plt.subplots()\r\n",
    "\r\n",
    "# Plot MLY-PRCP-NORMAL from seattle_weather against the MONTH\r\n",
    "ax.____(seattle_weather[\"MONTH\"], ____)\r\n",
    "\r\n",
    "# Plot MLY-PRCP-NORMAL from austin_weather against MONTH\r\n",
    "ax.____(____, ____)\r\n",
    "\r\n",
    "# Call the show function\r\n",
    "____"
   ],
   "outputs": [],
   "metadata": {}
  },
  {
   "cell_type": "code",
   "execution_count": null,
   "source": [
    "# Call plt.plot to plot \"MLY-PRCP-NORMAL\" against \"MONTHS\" in both DataFrames.\r\n",
    "# Pass the color key-word arguments to these commands to set the color of the Seattle data to blue ('b') and the Austin data to red ('r').\r\n",
    "# Pass the marker key-word arguments to these commands to set the Seattle data to circle markers ('o') and the Austin markers to triangles pointing downwards ('v').\r\n",
    "# Pass the linestyle key-word argument to use dashed lines for the data from both cities ('--').\r\n",
    "\r\n",
    "# Plot Seattle data, setting data appearance\r\n",
    "ax.plot(seattle_weather[\"MONTH\"], seattle_weather[\"MLY-PRCP-NORMAL\"], ____)\r\n",
    "\r\n",
    "# Plot Austin data, setting data appearance\r\n",
    "ax.plot(austin_weather[\"MONTH\"], austin_weather[\"MLY-PRCP-NORMAL\"], ____)\r\n",
    "\r\n",
    "# Use the set_xlabel method to add the label: \"Time (months)\".\r\n",
    "____\r\n",
    "\r\n",
    "# Use the set_ylabel method to add the label: \"Precipitation (inches)\".\r\n",
    "____\r\n",
    "\r\n",
    "# Use the set_title method to add the title: \"Weather patterns in Austin and Seattle\".\r\n",
    "____\r\n",
    "\r\n",
    "# Call show to display the resulting plot\r\n",
    "plt.show()"
   ],
   "outputs": [],
   "metadata": {}
  },
  {
   "cell_type": "markdown",
   "source": [
    "1. Use the set_xlabel method to add the label: \"Time (months)\".\r\n",
    "2. Use the set_ylabel method to add the label: \"Precipitation (inches)\".\r\n",
    "3. Use the set_title method to add the title: \"Weather patterns in Austin and Seattle\"."
   ],
   "metadata": {}
  },
  {
   "cell_type": "code",
   "execution_count": null,
   "source": [
    "ax.plot(seattle_weather[\"MONTH\"], seattle_weather[\"MLY-PRCP-NORMAL\"])\r\n",
    "ax.plot(austin_weather[\"MONTH\"], austin_weather[\"MLY-PRCP-NORMAL\"])\r\n",
    "\r\n",
    "# Customize the x-axis label\r\n",
    "____\r\n",
    "\r\n",
    "# Customize the y-axis label\r\n",
    "____\r\n",
    "\r\n",
    "# Add the title\r\n",
    "____\r\n",
    "\r\n",
    "# Display the figure\r\n",
    "plt.show()"
   ],
   "outputs": [],
   "metadata": {}
  },
  {
   "cell_type": "markdown",
   "source": [
    "1. Create a Figure and an array of subplots with 2 rows and 2 columns.\r\n",
    "2. Addressing the top left Axes as index 0, 0, plot the Seattle precipitation.\r\n",
    "3. In the top right (index 0,1), plot Seattle temperatures.\r\n",
    "4. In the bottom left (1, 0) and bottom right (1, 1) plot Austin precipitations and temperatures."
   ],
   "metadata": {}
  },
  {
   "cell_type": "code",
   "execution_count": null,
   "source": [
    "# Create a Figure and an array of subplots with 2 rows and 2 columns\r\n",
    "fig, ax = plt.subplots(____, ____)\r\n",
    "\r\n",
    "# Addressing the top left Axes as index 0, 0, plot month and Seattle precipitation\r\n",
    "ax[0, 0].plot(____, ____)\r\n",
    "\r\n",
    "# In the top right (index 0,1), plot month and Seattle temperatures\r\n",
    "ax[0, 1].plot(____, ____)\r\n",
    "\r\n",
    "# In the bottom left (1, 0) plot month and Austin precipitations\r\n",
    "ax[____].plot(____, ____)\r\n",
    "\r\n",
    "# In the bottom right (1, 1) plot month and Austin temperatures\r\n",
    "ax[____].plot(____, ____)\r\n",
    "plt.show()"
   ],
   "outputs": [],
   "metadata": {}
  },
  {
   "cell_type": "markdown",
   "source": [
    "1. Create a Figure with an array of two Axes objects that share their y-axis range.\r\n",
    "2. Plot Seattle's \"MLY-PRCP-NORMAL\" in a solid blue line in the top Axes.\r\n",
    "3. Add Seattle's \"MLY-PRCP-25PCTL\" and \"MLY-PRCP-75PCTL\" in dashed blue lines to the top Axes.\r\n",
    "4. Plot Austin's \"MLY-PRCP-NORMAL\" in a solid red line in the top Axes and the \"MLY-PRCP-25PCTL\" and \"MLY-PRCP-75PCTL\" in dashed red lines."
   ],
   "metadata": {}
  },
  {
   "cell_type": "code",
   "execution_count": null,
   "source": [
    "# Create a figure and an array of axes: 2 rows, 1 column with shared y axis\r\n",
    "fig, ax = plt.subplots(2, 1, sharey=True)\r\n",
    "\r\n",
    "# Plot Seattle precipitation data in the top axes\r\n",
    "____.plot(____, ____, color = ____)\r\n",
    "____.plot(____, ____, color = ____, linestyle = ____)\r\n",
    "____.plot(____, ____, color = ____, linestyle = ____)\r\n",
    "\r\n",
    "# Plot Austin precipitation data in the bottom axes\r\n",
    "____.plot(____, ____, color = ____)\r\n",
    "____.plot(____, ____, color = ____, linestyle = ____)\r\n",
    "____.plot(____, ____, color = ____, linestyle = ____)\r\n",
    "\r\n",
    "plt.show()"
   ],
   "outputs": [],
   "metadata": {}
  }
 ]
}