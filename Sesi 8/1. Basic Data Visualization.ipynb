{
 "cells": [
  {
   "cell_type": "code",
   "execution_count": 1,
   "metadata": {},
   "outputs": [],
   "source": [
    "# Import the matplotlib.pyplot submodule and name it plt\n",
    "import matplotlib.pyplot as plt"
   ]
  },
  {
   "cell_type": "code",
   "execution_count": null,
   "metadata": {},
   "outputs": [],
   "source": [
    "# Create a Figure and an Axes with plt.subplots\n",
    "fig, ax = ____"
   ]
  },
  {
   "cell_type": "code",
   "execution_count": null,
   "metadata": {},
   "outputs": [],
   "source": [
    "# Call the show function to show the result\n",
    "____"
   ]
  },
  {
   "cell_type": "code",
   "execution_count": null,
   "metadata": {},
   "outputs": [],
   "source": [
    "# Import pandas as pd\n",
    "____"
   ]
  },
  {
   "cell_type": "code",
   "execution_count": null,
   "metadata": {},
   "outputs": [],
   "source": [
    "# Read the data from file using read_csv\n",
    "# Read in the data from a CSV file called 'climate_change.csv' using pd.read_csv\n",
    "# Use the parse_dates key-word argument to parse the \"date\" column as dates.\n",
    "# Use the index_col key-word argument to set the \"date\" column as the index.\n",
    "climate_change = pd.read_csv(____, ____, ____)"
   ]
  },
  {
   "cell_type": "code",
   "execution_count": null,
   "metadata": {},
   "outputs": [],
   "source": [
    "# Create variable seventies with data from \"1970-01-01\" to \"1979-12-31\"\n",
    "# To select a span of time from a Pandas DataFrame with a time index, you can use slice notation (':').\n",
    "# When slicing into a time index, use strings that contain the times between which you want to select.\n",
    "seventies = climate_change[____]"
   ]
  },
  {
   "cell_type": "code",
   "execution_count": null,
   "metadata": {},
   "outputs": [],
   "source": [
    "# Add the time-series for \"co2\" data from seventies to the plot\n",
    "____(____, ____[\"co2\"])"
   ]
  },
  {
   "cell_type": "code",
   "execution_count": null,
   "metadata": {},
   "outputs": [],
   "source": [
    "# Show the figure\n",
    "____"
   ]
  },
  {
   "cell_type": "code",
   "execution_count": null,
   "metadata": {},
   "outputs": [],
   "source": [
    "# Plot the carbon dioxide variable in blue using the Axes plot method.\n",
    "# Plot the CO2 variable in blue\n",
    "ax.plot(____, ____, color=____)"
   ]
  },
  {
   "cell_type": "code",
   "execution_count": null,
   "metadata": {},
   "outputs": [],
   "source": [
    "# Use the Axes twinx method to create a twin Axes that shares the x-axis.\n",
    "# Create a twin Axes that shares the x-axis\n",
    "ax2 = ____"
   ]
  },
  {
   "cell_type": "code",
   "execution_count": null,
   "metadata": {},
   "outputs": [],
   "source": [
    "# Plot the relative temperature variable in the twin Axes using its plot method.\n",
    "# Plot the relative temperature in red\n",
    "____.plot(____, ____, color=____)"
   ]
  },
  {
   "cell_type": "code",
   "execution_count": null,
   "metadata": {},
   "outputs": [],
   "source": [
    "plt.show()"
   ]
  },
  {
   "cell_type": "code",
   "execution_count": null,
   "metadata": {},
   "outputs": [],
   "source": [
    "# Define a function called plot_timeseries that takes as input an Axes object (axes), data (x,y), a string with the name of a color and strings for x- and y-axis labels.\n",
    "# Remember that the key-word for setting color in plot is color, but in tick_params it is colors.\n",
    "def ____(axes, x, y, color, xlabel, ylabel):\n",
    "\n",
    "  # Plot the inputs x,y in the provided color\n",
    "  axes.____(____, ____, color=____)\n",
    "\n",
    "  # Set the x-axis label\n",
    "  ____.____(____)\n",
    "\n",
    "  # Set the y-axis label\n",
    "  ____.____(____, color=____)\n",
    "\n",
    "  # Set the colors tick params for y-axis\n",
    "  ____.____('y', colors=____)"
   ]
  },
  {
   "cell_type": "code",
   "execution_count": null,
   "metadata": {},
   "outputs": [],
   "source": [
    "# Use the function plot_timeseries to plot the \"co2\" column in blue, with the x-axis label \"Time (years)\" and y-axis label \"CO2 levels\".\n",
    "# Plot the CO2 levels time-series in blue\n",
    "# Use the function plot_timeseries to add the data in the \"relative_temp\" column in red to the twin Axes object, with the x-axis label \"Time (years)\" and y-axis label \"Relative temperature (Celsius)\"\n",
    "# Use the ax.twinx method to add an Axes object to the figure that shares the x-axis with ax.\n",
    "# Create a twin Axes object that shares the x-axis\n",
    "\n",
    "fig, ax = plt.subplots()fig, ax = plt.subplots()\n",
    "\n",
    "# Plot the CO2 levels time-series in blue\n",
    "____(____, ____, ____, \"blue\", ____, ____)\n",
    "\n",
    "# Create a twin Axes object that shares the x-axis\n",
    "ax2 = ____\n",
    "\n",
    "# Plot the relative temperature data in red\n",
    "____(____, ____, ____, \"red\", ____, ____)\n",
    "\n",
    "plt.show()"
   ]
  },
  {
   "cell_type": "code",
   "execution_count": null,
   "metadata": {},
   "outputs": [],
   "source": [
    "# Use the ax.plot method to plot the DataFrame index against the relative_temp column.\n",
    "# Use the annotate method to add the text '>1 degree' in the location (pd.Timestamp('2015-10-06'), 1).\n",
    "\n",
    "fig, ax = plt.subplots()\n",
    "\n",
    "# Plot the relative temperature data\n",
    "____\n",
    "\n",
    "# Annotate the date at which temperatures exceeded 1 degree\n",
    "ax.____(____, ____)\n",
    "\n",
    "plt.show()"
   ]
  },
  {
   "cell_type": "code",
   "execution_count": null,
   "metadata": {},
   "outputs": [],
   "source": []
  }
 ],
 "metadata": {
  "interpreter": {
   "hash": "b3ba2566441a7c06988d0923437866b63cedc61552a5af99d1f4fb67d367b25f"
  },
  "kernelspec": {
   "display_name": "Python 3.9.7 ('base')",
   "language": "python",
   "name": "python3"
  },
  "language_info": {
   "codemirror_mode": {
    "name": "ipython",
    "version": 3
   },
   "file_extension": ".py",
   "mimetype": "text/x-python",
   "name": "python",
   "nbconvert_exporter": "python",
   "pygments_lexer": "ipython3",
   "version": "3.9.7"
  },
  "orig_nbformat": 2
 },
 "nbformat": 4,
 "nbformat_minor": 2
}
