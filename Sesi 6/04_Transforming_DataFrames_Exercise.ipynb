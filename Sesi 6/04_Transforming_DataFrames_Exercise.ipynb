{
  "cells": [
    {
      "cell_type": "code",
      "execution_count": 12,
      "metadata": {
        "id": "aFeAVj_hwI28"
      },
      "outputs": [
        {
          "name": "stdout",
          "output_type": "stream",
          "text": [
            "<class 'pandas.core.frame.DataFrame'>\n",
            "RangeIndex: 51 entries, 0 to 50\n",
            "Data columns (total 6 columns):\n",
            " #   Column          Non-Null Count  Dtype \n",
            "---  ------          --------------  ----- \n",
            " 0   Unnamed: 0      51 non-null     int64 \n",
            " 1   region          51 non-null     object\n",
            " 2   state           51 non-null     object\n",
            " 3   individuals     51 non-null     int64 \n",
            " 4   family_members  51 non-null     int64 \n",
            " 5   state_pop       51 non-null     int64 \n",
            "dtypes: int64(4), object(2)\n",
            "memory usage: 2.5+ KB\n",
            "None\n",
            "(51, 6)\n",
            "       Unnamed: 0    individuals  family_members     state_pop\n",
            "count   51.000000      51.000000       51.000000  5.100000e+01\n",
            "mean    25.000000    7225.784314     3504.882353  6.405637e+06\n",
            "std     14.866069   15991.025083     7805.411811  7.327258e+06\n",
            "min      0.000000     434.000000       75.000000  5.776010e+05\n",
            "25%     12.500000    1446.500000      592.000000  1.777414e+06\n",
            "50%     25.000000    3082.000000     1482.000000  4.461153e+06\n",
            "75%     37.500000    6781.500000     3196.000000  7.340946e+06\n",
            "max     50.000000  109008.000000    52070.000000  3.946159e+07\n"
          ]
        }
      ],
      "source": [
        "# Import pandas using the alias pd\n",
        "import pandas as pd\n",
        "\n",
        "\n",
        "# Print the head of the homelessness data\n",
        "data = pd.read_csv('01. homelessness.csv')\n",
        "\n",
        "# Print information about homelessness\n",
        "print(data.info())\n",
        "\n",
        "# Print the shape of homelessness\n",
        "print(data.shape)\n",
        "\n",
        "# Print a description of homelessness\n",
        "print(data.describe())"
      ]
    },
    {
      "cell_type": "code",
      "execution_count": 16,
      "metadata": {
        "id": "fm5saUItwcFd"
      },
      "outputs": [
        {
          "ename": "TypeError",
          "evalue": "'numpy.ndarray' object is not callable",
          "output_type": "error",
          "traceback": [
            "\u001b[1;31m---------------------------------------------------------------------------\u001b[0m",
            "\u001b[1;31mTypeError\u001b[0m                                 Traceback (most recent call last)",
            "\u001b[1;32mC:\\Users\\FERDI~1.DEL\\AppData\\Local\\Temp/ipykernel_13980/1708628172.py\u001b[0m in \u001b[0;36m<module>\u001b[1;34m\u001b[0m\n\u001b[0;32m      1\u001b[0m \u001b[1;31m# Print the values of homelessness\u001b[0m\u001b[1;33m\u001b[0m\u001b[1;33m\u001b[0m\u001b[0m\n\u001b[1;32m----> 2\u001b[1;33m \u001b[0mprint\u001b[0m\u001b[1;33m(\u001b[0m\u001b[0mdata\u001b[0m\u001b[1;33m.\u001b[0m\u001b[0mvalues\u001b[0m\u001b[1;33m(\u001b[0m\u001b[1;33m)\u001b[0m\u001b[1;33m)\u001b[0m\u001b[1;33m\u001b[0m\u001b[1;33m\u001b[0m\u001b[0m\n\u001b[0m\u001b[0;32m      3\u001b[0m \u001b[1;33m\u001b[0m\u001b[0m\n\u001b[0;32m      4\u001b[0m \u001b[1;31m# Print the column index of homelessness\u001b[0m\u001b[1;33m\u001b[0m\u001b[1;33m\u001b[0m\u001b[0m\n\u001b[0;32m      5\u001b[0m \u001b[0mprint\u001b[0m\u001b[1;33m(\u001b[0m\u001b[0mdata\u001b[0m\u001b[1;33m.\u001b[0m\u001b[0mcolumns\u001b[0m\u001b[1;33m)\u001b[0m\u001b[1;33m\u001b[0m\u001b[1;33m\u001b[0m\u001b[0m\n",
            "\u001b[1;31mTypeError\u001b[0m: 'numpy.ndarray' object is not callable"
          ]
        }
      ],
      "source": [
        "# Print the values of homelessness\n",
        "print(data.values)\n",
        "\n",
        "# Print the column index of homelessness\n",
        "print(data.columns)\n",
        "\n",
        "# Print the row index of homelessness\n",
        "# list(data.index.values)\n",
        "print(data.index)"
      ]
    },
    {
      "cell_type": "markdown",
      "metadata": {
        "id": "C2RxFTVbwurT"
      },
      "source": [
        "1. Sort homelessness by the number of homeless individuals, from smallest to largest, and save this as homelessness_ind.\n",
        "2. Print the head of the sorted DataFrame."
      ]
    },
    {
      "cell_type": "code",
      "execution_count": 15,
      "metadata": {
        "id": "a3ykbCdgwzQV"
      },
      "outputs": [
        {
          "name": "stdout",
          "output_type": "stream",
          "text": [
            "    Unnamed: 0              region                 state  individuals  \\\n",
            "50          50            Mountain               Wyoming          434   \n",
            "34          34  West North Central          North Dakota          467   \n",
            "7            7      South Atlantic              Delaware          708   \n",
            "39          39         New England          Rhode Island          747   \n",
            "45          45         New England               Vermont          780   \n",
            "29          29         New England         New Hampshire          835   \n",
            "41          41  West North Central          South Dakota          836   \n",
            "26          26            Mountain               Montana          983   \n",
            "48          48      South Atlantic         West Virginia         1021   \n",
            "24          24  East South Central           Mississippi         1024   \n",
            "12          12            Mountain                 Idaho         1297   \n",
            "1            1             Pacific                Alaska         1434   \n",
            "16          16  West North Central                Kansas         1443   \n",
            "19          19         New England                 Maine         1450   \n",
            "15          15  West North Central                  Iowa         1711   \n",
            "27          27  West North Central              Nebraska         1745   \n",
            "44          44            Mountain                  Utah         1904   \n",
            "31          31            Mountain            New Mexico         1949   \n",
            "3            3  West South Central              Arkansas         2280   \n",
            "6            6         New England           Connecticut         2280   \n",
            "18          18  West South Central             Louisiana         2540   \n",
            "0            0  East South Central               Alabama         2570   \n",
            "17          17  East South Central              Kentucky         2735   \n",
            "49          49  East North Central             Wisconsin         2740   \n",
            "36          36  West South Central              Oklahoma         2823   \n",
            "40          40      South Atlantic        South Carolina         3082   \n",
            "8            8      South Atlantic  District of Columbia         3770   \n",
            "25          25  West North Central              Missouri         3776   \n",
            "14          14  East North Central               Indiana         3776   \n",
            "46          46      South Atlantic              Virginia         3928   \n",
            "23          23  West North Central             Minnesota         3993   \n",
            "11          11             Pacific                Hawaii         4131   \n",
            "20          20      South Atlantic              Maryland         4914   \n",
            "22          22  East North Central              Michigan         5209   \n",
            "30          30        Mid-Atlantic            New Jersey         6048   \n",
            "42          42  East South Central             Tennessee         6139   \n",
            "33          33      South Atlantic        North Carolina         6451   \n",
            "13          13  East North Central              Illinois         6752   \n",
            "21          21         New England         Massachusetts         6811   \n",
            "35          35  East North Central                  Ohio         6929   \n",
            "10          10      South Atlantic               Georgia         6943   \n",
            "28          28            Mountain                Nevada         7058   \n",
            "2            2            Mountain               Arizona         7259   \n",
            "5            5            Mountain              Colorado         7607   \n",
            "38          38        Mid-Atlantic          Pennsylvania         8163   \n",
            "37          37             Pacific                Oregon        11139   \n",
            "47          47             Pacific            Washington        16424   \n",
            "43          43  West South Central                 Texas        19199   \n",
            "9            9      South Atlantic               Florida        21443   \n",
            "32          32        Mid-Atlantic              New York        39827   \n",
            "4            4             Pacific            California       109008   \n",
            "\n",
            "    family_members  state_pop  \n",
            "50             205     577601  \n",
            "34              75     758080  \n",
            "7              374     965479  \n",
            "39             354    1058287  \n",
            "45             511     624358  \n",
            "29             615    1353465  \n",
            "41             323     878698  \n",
            "26             422    1060665  \n",
            "48             222    1804291  \n",
            "24             328    2981020  \n",
            "12             715    1750536  \n",
            "1              582     735139  \n",
            "16             773    2911359  \n",
            "19            1066    1339057  \n",
            "15            1038    3148618  \n",
            "27             676    1925614  \n",
            "44             972    3153550  \n",
            "31             602    2092741  \n",
            "3              432    3009733  \n",
            "6             1696    3571520  \n",
            "18             519    4659690  \n",
            "0              864    4887681  \n",
            "17             953    4461153  \n",
            "49            2167    5807406  \n",
            "36            1048    3940235  \n",
            "40             851    5084156  \n",
            "8             3134     701547  \n",
            "25            2107    6121623  \n",
            "14            1482    6695497  \n",
            "46            2047    8501286  \n",
            "23            3250    5606249  \n",
            "11            2399    1420593  \n",
            "20            2230    6035802  \n",
            "22            3142    9984072  \n",
            "30            3350    8886025  \n",
            "42            1744    6771631  \n",
            "33            2817   10381615  \n",
            "13            3891   12723071  \n",
            "21           13257    6882635  \n",
            "35            3320   11676341  \n",
            "10            2556   10511131  \n",
            "28             486    3027341  \n",
            "2             2606    7158024  \n",
            "5             3250    5691287  \n",
            "38            5349   12800922  \n",
            "37            3337    4181886  \n",
            "47            5880    7523869  \n",
            "43            6111   28628666  \n",
            "9             9587   21244317  \n",
            "32           52070   19530351  \n",
            "4            20964   39461588  \n"
          ]
        }
      ],
      "source": [
        "# Sort homelessness by individual\n",
        "homelessness_ind = data.sort_values('individuals')\n",
        "\n",
        "# Print the top few rows\n",
        "print(homelessness_ind.head())"
      ]
    },
    {
      "cell_type": "code",
      "execution_count": 19,
      "metadata": {},
      "outputs": [
        {
          "name": "stdout",
          "output_type": "stream",
          "text": [
            "                region                 state  individuals  family_members  \\\n",
            "0   East South Central               Alabama         2570             864   \n",
            "1              Pacific                Alaska         1434             582   \n",
            "2             Mountain               Arizona         7259            2606   \n",
            "3   West South Central              Arkansas         2280             432   \n",
            "4              Pacific            California       109008           20964   \n",
            "5             Mountain              Colorado         7607            3250   \n",
            "6          New England           Connecticut         2280            1696   \n",
            "7       South Atlantic              Delaware          708             374   \n",
            "8       South Atlantic  District of Columbia         3770            3134   \n",
            "9       South Atlantic               Florida        21443            9587   \n",
            "10      South Atlantic               Georgia         6943            2556   \n",
            "11             Pacific                Hawaii         4131            2399   \n",
            "12            Mountain                 Idaho         1297             715   \n",
            "13  East North Central              Illinois         6752            3891   \n",
            "14  East North Central               Indiana         3776            1482   \n",
            "15  West North Central                  Iowa         1711            1038   \n",
            "16  West North Central                Kansas         1443             773   \n",
            "17  East South Central              Kentucky         2735             953   \n",
            "18  West South Central             Louisiana         2540             519   \n",
            "19         New England                 Maine         1450            1066   \n",
            "20      South Atlantic              Maryland         4914            2230   \n",
            "21         New England         Massachusetts         6811           13257   \n",
            "22  East North Central              Michigan         5209            3142   \n",
            "23  West North Central             Minnesota         3993            3250   \n",
            "24  East South Central           Mississippi         1024             328   \n",
            "25  West North Central              Missouri         3776            2107   \n",
            "26            Mountain               Montana          983             422   \n",
            "27  West North Central              Nebraska         1745             676   \n",
            "28            Mountain                Nevada         7058             486   \n",
            "29         New England         New Hampshire          835             615   \n",
            "30        Mid-Atlantic            New Jersey         6048            3350   \n",
            "31            Mountain            New Mexico         1949             602   \n",
            "32        Mid-Atlantic              New York        39827           52070   \n",
            "33      South Atlantic        North Carolina         6451            2817   \n",
            "34  West North Central          North Dakota          467              75   \n",
            "35  East North Central                  Ohio         6929            3320   \n",
            "36  West South Central              Oklahoma         2823            1048   \n",
            "37             Pacific                Oregon        11139            3337   \n",
            "38        Mid-Atlantic          Pennsylvania         8163            5349   \n",
            "39         New England          Rhode Island          747             354   \n",
            "40      South Atlantic        South Carolina         3082             851   \n",
            "41  West North Central          South Dakota          836             323   \n",
            "42  East South Central             Tennessee         6139            1744   \n",
            "43  West South Central                 Texas        19199            6111   \n",
            "44            Mountain                  Utah         1904             972   \n",
            "45         New England               Vermont          780             511   \n",
            "46      South Atlantic              Virginia         3928            2047   \n",
            "47             Pacific            Washington        16424            5880   \n",
            "48      South Atlantic         West Virginia         1021             222   \n",
            "49  East North Central             Wisconsin         2740            2167   \n",
            "50            Mountain               Wyoming          434             205   \n",
            "\n",
            "    state_pop  \n",
            "0     4887681  \n",
            "1      735139  \n",
            "2     7158024  \n",
            "3     3009733  \n",
            "4    39461588  \n",
            "5     5691287  \n",
            "6     3571520  \n",
            "7      965479  \n",
            "8      701547  \n",
            "9    21244317  \n",
            "10   10511131  \n",
            "11    1420593  \n",
            "12    1750536  \n",
            "13   12723071  \n",
            "14    6695497  \n",
            "15    3148618  \n",
            "16    2911359  \n",
            "17    4461153  \n",
            "18    4659690  \n",
            "19    1339057  \n",
            "20    6035802  \n",
            "21    6882635  \n",
            "22    9984072  \n",
            "23    5606249  \n",
            "24    2981020  \n",
            "25    6121623  \n",
            "26    1060665  \n",
            "27    1925614  \n",
            "28    3027341  \n",
            "29    1353465  \n",
            "30    8886025  \n",
            "31    2092741  \n",
            "32   19530351  \n",
            "33   10381615  \n",
            "34     758080  \n",
            "35   11676341  \n",
            "36    3940235  \n",
            "37    4181886  \n",
            "38   12800922  \n",
            "39    1058287  \n",
            "40    5084156  \n",
            "41     878698  \n",
            "42    6771631  \n",
            "43   28628666  \n",
            "44    3153550  \n",
            "45     624358  \n",
            "46    8501286  \n",
            "47    7523869  \n",
            "48    1804291  \n",
            "49    5807406  \n",
            "50     577601  \n"
          ]
        }
      ],
      "source": [
        "data.drop(columns=['Unnamed: 0'], inplace=True)\n",
        " "
      ]
    },
    {
      "cell_type": "markdown",
      "metadata": {
        "id": "DzVp9qvLwyQA"
      },
      "source": [
        "1. Sort homelessness by the number of homeless family_members in descending order, and save this as homelessness_fam.\n",
        "2. Print the head of the sorted DataFrame."
      ]
    },
    {
      "cell_type": "code",
      "execution_count": null,
      "metadata": {
        "id": "b6XF3IT0w7us"
      },
      "outputs": [],
      "source": [
        "# Sort homelessness by descending family members\n",
        "homelessness_fam = data.sort_values('family_members',ascending=False)\n",
        "\n",
        "# Print the top few rows\n",
        "print(homelessness_fam.head())"
      ]
    },
    {
      "cell_type": "markdown",
      "metadata": {
        "id": "VrycbWLXxju4"
      },
      "source": [
        "1. Sort homelessness first by region (ascending), and then by number of family members (descending). Save this as homelessness_reg_fam.\n",
        "2. Print the head of the sorted DataFrame."
      ]
    },
    {
      "cell_type": "code",
      "execution_count": 21,
      "metadata": {
        "id": "8GxinflQxmL6"
      },
      "outputs": [
        {
          "name": "stdout",
          "output_type": "stream",
          "text": [
            "                region      state  individuals  family_members  state_pop\n",
            "13  East North Central   Illinois         6752            3891   12723071\n",
            "35  East North Central       Ohio         6929            3320   11676341\n",
            "22  East North Central   Michigan         5209            3142    9984072\n",
            "49  East North Central  Wisconsin         2740            2167    5807406\n",
            "14  East North Central    Indiana         3776            1482    6695497\n"
          ]
        }
      ],
      "source": [
        "# Sort homelessness by region, then descending family members\n",
        "homelessness_reg_fam = data.sort_values(['region','family_members'],ascending=[True, False])\n",
        "\n",
        "# Print the top few rows\n",
        "print(homelessness_reg_fam.head())"
      ]
    },
    {
      "cell_type": "markdown",
      "metadata": {
        "id": "ysh02Y60xs7n"
      },
      "source": [
        "1. Create a DataFrame called individuals that contains only the individuals column of homelessness.\n",
        "2. Print the head of the result."
      ]
    },
    {
      "cell_type": "code",
      "execution_count": 22,
      "metadata": {
        "id": "N9kvbr1fxwQV"
      },
      "outputs": [
        {
          "name": "stdout",
          "output_type": "stream",
          "text": [
            "0       2570\n",
            "1       1434\n",
            "2       7259\n",
            "3       2280\n",
            "4     109008\n",
            "5       7607\n",
            "6       2280\n",
            "7        708\n",
            "8       3770\n",
            "9      21443\n",
            "10      6943\n",
            "11      4131\n",
            "12      1297\n",
            "13      6752\n",
            "14      3776\n",
            "15      1711\n",
            "16      1443\n",
            "17      2735\n",
            "18      2540\n",
            "19      1450\n",
            "20      4914\n",
            "21      6811\n",
            "22      5209\n",
            "23      3993\n",
            "24      1024\n",
            "25      3776\n",
            "26       983\n",
            "27      1745\n",
            "28      7058\n",
            "29       835\n",
            "30      6048\n",
            "31      1949\n",
            "32     39827\n",
            "33      6451\n",
            "34       467\n",
            "35      6929\n",
            "36      2823\n",
            "37     11139\n",
            "38      8163\n",
            "39       747\n",
            "40      3082\n",
            "41       836\n",
            "42      6139\n",
            "43     19199\n",
            "44      1904\n",
            "45       780\n",
            "46      3928\n",
            "47     16424\n",
            "48      1021\n",
            "49      2740\n",
            "50       434\n",
            "Name: individuals, dtype: int64\n"
          ]
        }
      ],
      "source": [
        "# Select the individuals column\n",
        "individuals = data['individuals']\n",
        "\n",
        "# Print the head of the result\n",
        "print(individuals.head())"
      ]
    },
    {
      "cell_type": "markdown",
      "metadata": {
        "id": "kjcynwqKyprN"
      },
      "source": [
        "1. Create a DataFrame called state_fam that contains only the state and family_members columns of homelessness, in that order.\n",
        "2. Print the head of the result."
      ]
    },
    {
      "cell_type": "code",
      "execution_count": 24,
      "metadata": {
        "id": "cmOO0FXNyuLY"
      },
      "outputs": [
        {
          "name": "stdout",
          "output_type": "stream",
          "text": [
            "                   state  family_members\n",
            "0                Alabama             864\n",
            "1                 Alaska             582\n",
            "2                Arizona            2606\n",
            "3               Arkansas             432\n",
            "4             California           20964\n",
            "5               Colorado            3250\n",
            "6            Connecticut            1696\n",
            "7               Delaware             374\n",
            "8   District of Columbia            3134\n",
            "9                Florida            9587\n",
            "10               Georgia            2556\n",
            "11                Hawaii            2399\n",
            "12                 Idaho             715\n",
            "13              Illinois            3891\n",
            "14               Indiana            1482\n",
            "15                  Iowa            1038\n",
            "16                Kansas             773\n",
            "17              Kentucky             953\n",
            "18             Louisiana             519\n",
            "19                 Maine            1066\n",
            "20              Maryland            2230\n",
            "21         Massachusetts           13257\n",
            "22              Michigan            3142\n",
            "23             Minnesota            3250\n",
            "24           Mississippi             328\n",
            "25              Missouri            2107\n",
            "26               Montana             422\n",
            "27              Nebraska             676\n",
            "28                Nevada             486\n",
            "29         New Hampshire             615\n",
            "30            New Jersey            3350\n",
            "31            New Mexico             602\n",
            "32              New York           52070\n",
            "33        North Carolina            2817\n",
            "34          North Dakota              75\n",
            "35                  Ohio            3320\n",
            "36              Oklahoma            1048\n",
            "37                Oregon            3337\n",
            "38          Pennsylvania            5349\n",
            "39          Rhode Island             354\n",
            "40        South Carolina             851\n",
            "41          South Dakota             323\n",
            "42             Tennessee            1744\n",
            "43                 Texas            6111\n",
            "44                  Utah             972\n",
            "45               Vermont             511\n",
            "46              Virginia            2047\n",
            "47            Washington            5880\n",
            "48         West Virginia             222\n",
            "49             Wisconsin            2167\n",
            "50               Wyoming             205\n"
          ]
        }
      ],
      "source": [
        "# Select the state and family_members columns\n",
        "state_fam = data[['state','family_members']]\n",
        "\n",
        "# Print the head of the result\n",
        "print(state_fam)"
      ]
    },
    {
      "cell_type": "markdown",
      "metadata": {
        "id": "HDL0tEKpywNU"
      },
      "source": [
        "1. Create a DataFrame called ind_state that contains the individuals and state columns of homelessness, in that order.\n",
        "2. Print the head of the result."
      ]
    },
    {
      "cell_type": "code",
      "execution_count": null,
      "metadata": {
        "id": "9CGyZMlPy17L"
      },
      "outputs": [],
      "source": [
        "# Select only the individuals and state columns, in that order\n",
        "ind_state = data[['individual','state']]\n",
        "\n",
        "# Print the head of the result\n",
        "print(ind_state)"
      ]
    },
    {
      "cell_type": "markdown",
      "metadata": {
        "id": "jRHrSM92zYH5"
      },
      "source": [
        "Filter homelessness for cases where the number of individuals is greater than ten thousand, assigning to ind_gt_10k. View the printed result."
      ]
    },
    {
      "cell_type": "code",
      "execution_count": 27,
      "metadata": {
        "id": "Gb2mfRaYzbvk"
      },
      "outputs": [
        {
          "name": "stdout",
          "output_type": "stream",
          "text": [
            "                region       state  individuals  family_members  state_pop\n",
            "4              Pacific  California       109008           20964   39461588\n",
            "9       South Atlantic     Florida        21443            9587   21244317\n",
            "32        Mid-Atlantic    New York        39827           52070   19530351\n",
            "37             Pacific      Oregon        11139            3337    4181886\n",
            "43  West South Central       Texas        19199            6111   28628666\n",
            "47             Pacific  Washington        16424            5880    7523869\n"
          ]
        }
      ],
      "source": [
        "# Filter for rows where individuals is greater than 10000\n",
        "ind_gt_10k = data[data['individuals']>10000]\n",
        "\n",
        "# See the result\n",
        "print(ind_gt_10k)"
      ]
    },
    {
      "cell_type": "markdown",
      "metadata": {
        "id": "ON9JYsLnzcPF"
      },
      "source": [
        "Filter homelessness for cases where the USA Census region is \"Mountain\", assigning to mountain_reg. View the printed result."
      ]
    },
    {
      "cell_type": "code",
      "execution_count": null,
      "metadata": {
        "id": "MrVVVJwMzhaI"
      },
      "outputs": [],
      "source": [
        "# Filter for rows where region is Mountain\n",
        "mountain_reg = data[data['region'] == \"Mountain\"]\n",
        "\n",
        "# See the result\n",
        "print(mountain_reg)"
      ]
    },
    {
      "cell_type": "markdown",
      "metadata": {
        "id": "DDQQp1oWziHx"
      },
      "source": [
        "Filter homelessness for cases where the number of family_members is less than one thousand and the region is \"Pacific\", assigning to fam_lt_1k_pac. View the printed result."
      ]
    },
    {
      "cell_type": "code",
      "execution_count": 29,
      "metadata": {
        "id": "8YRcU-HszlCU"
      },
      "outputs": [
        {
          "ename": "ValueError",
          "evalue": "The truth value of a Series is ambiguous. Use a.empty, a.bool(), a.item(), a.any() or a.all().",
          "output_type": "error",
          "traceback": [
            "\u001b[1;31m---------------------------------------------------------------------------\u001b[0m",
            "\u001b[1;31mValueError\u001b[0m                                Traceback (most recent call last)",
            "\u001b[1;32mC:\\Users\\FERDI~1.DEL\\AppData\\Local\\Temp/ipykernel_13980/1063200375.py\u001b[0m in \u001b[0;36m<module>\u001b[1;34m\u001b[0m\n\u001b[0;32m      1\u001b[0m \u001b[1;31m# Filter for rows where family_members is less than 1000\u001b[0m\u001b[1;33m\u001b[0m\u001b[1;33m\u001b[0m\u001b[0m\n\u001b[0;32m      2\u001b[0m \u001b[1;31m# and region is Pacific\u001b[0m\u001b[1;33m\u001b[0m\u001b[1;33m\u001b[0m\u001b[0m\n\u001b[1;32m----> 3\u001b[1;33m \u001b[0mfam_lt_1k_pac\u001b[0m \u001b[1;33m=\u001b[0m \u001b[0mdata\u001b[0m\u001b[1;33m[\u001b[0m\u001b[1;33m(\u001b[0m\u001b[0mdata\u001b[0m\u001b[1;33m[\u001b[0m\u001b[1;34m'family_members'\u001b[0m\u001b[1;33m]\u001b[0m \u001b[1;33m<\u001b[0m \u001b[1;36m1000\u001b[0m \u001b[1;32mand\u001b[0m \u001b[0mdata\u001b[0m\u001b[1;33m[\u001b[0m\u001b[1;34m'region'\u001b[0m\u001b[1;33m]\u001b[0m \u001b[1;33m==\u001b[0m \u001b[1;34m\"Pacific\"\u001b[0m\u001b[1;33m)\u001b[0m\u001b[1;33m]\u001b[0m\u001b[1;33m\u001b[0m\u001b[1;33m\u001b[0m\u001b[0m\n\u001b[0m\u001b[0;32m      4\u001b[0m \u001b[1;33m\u001b[0m\u001b[0m\n\u001b[0;32m      5\u001b[0m \u001b[1;31m# See the result\u001b[0m\u001b[1;33m\u001b[0m\u001b[1;33m\u001b[0m\u001b[0m\n",
            "\u001b[1;32mC:\\ProgramData\\Anaconda3\\lib\\site-packages\\pandas\\core\\generic.py\u001b[0m in \u001b[0;36m__nonzero__\u001b[1;34m(self)\u001b[0m\n\u001b[0;32m   1535\u001b[0m     \u001b[1;33m@\u001b[0m\u001b[0mfinal\u001b[0m\u001b[1;33m\u001b[0m\u001b[1;33m\u001b[0m\u001b[0m\n\u001b[0;32m   1536\u001b[0m     \u001b[1;32mdef\u001b[0m \u001b[0m__nonzero__\u001b[0m\u001b[1;33m(\u001b[0m\u001b[0mself\u001b[0m\u001b[1;33m)\u001b[0m\u001b[1;33m:\u001b[0m\u001b[1;33m\u001b[0m\u001b[1;33m\u001b[0m\u001b[0m\n\u001b[1;32m-> 1537\u001b[1;33m         raise ValueError(\n\u001b[0m\u001b[0;32m   1538\u001b[0m             \u001b[1;34mf\"The truth value of a {type(self).__name__} is ambiguous. \"\u001b[0m\u001b[1;33m\u001b[0m\u001b[1;33m\u001b[0m\u001b[0m\n\u001b[0;32m   1539\u001b[0m             \u001b[1;34m\"Use a.empty, a.bool(), a.item(), a.any() or a.all().\"\u001b[0m\u001b[1;33m\u001b[0m\u001b[1;33m\u001b[0m\u001b[0m\n",
            "\u001b[1;31mValueError\u001b[0m: The truth value of a Series is ambiguous. Use a.empty, a.bool(), a.item(), a.any() or a.all()."
          ]
        }
      ],
      "source": [
        "# Filter for rows where family_members is less than 1000 \n",
        "# and region is Pacific\n",
        "fam_lt_1k_pac = data[(data['family_members'] < 1000 and data['region'] == \"Pacific\")]\n",
        "\n",
        "# See the result\n",
        "print(fam_lt_1k_pac)"
      ]
    },
    {
      "cell_type": "markdown",
      "metadata": {
        "id": "yGDc3wEIzpE8"
      },
      "source": [
        "Filter homelessness for cases where the USA census region is \"South Atlantic\" or it is \"Mid-Atlantic\", assigning to south_mid_atlantic. View the printed result"
      ]
    },
    {
      "cell_type": "code",
      "execution_count": null,
      "metadata": {
        "id": "nk8O0I2PzrLV"
      },
      "outputs": [],
      "source": [
        "# Subset for rows in South Atlantic or Mid-Atlantic regions\n",
        "south_mid_atlantic = ____\n",
        "\n",
        "# See the result\n",
        "print(south_mid_atlantic)"
      ]
    },
    {
      "cell_type": "markdown",
      "metadata": {
        "id": "jjBCm7kAzs5u"
      },
      "source": [
        "Filter homelessness for cases where the USA census state is in the list of Mojave states, canu, assigning to mojave_homelessness. View the printed result."
      ]
    },
    {
      "cell_type": "code",
      "execution_count": null,
      "metadata": {
        "id": "F45HAHppzvKf"
      },
      "outputs": [],
      "source": [
        "# The Mojave Desert states\n",
        "canu = [\"California\", \"Arizona\", \"Nevada\", \"Utah\"]\n",
        "\n",
        "# Filter for rows in the Mojave Desert states\n",
        "mojave_homelessness = ____\n",
        "\n",
        "# See the result\n",
        "print(mojave_homelessness)"
      ]
    },
    {
      "cell_type": "markdown",
      "metadata": {
        "id": "-HUNhiw2zzvO"
      },
      "source": [
        "1. Add a new column to homelessness, named total, containing the sum of the individuals and family_members columns.\n",
        "2. Add another column to homelessness, named p_individuals, containing the proportion of homeless people in each state who are individuals."
      ]
    },
    {
      "cell_type": "code",
      "execution_count": null,
      "metadata": {
        "id": "Cc9kHD-Szw9S"
      },
      "outputs": [],
      "source": [
        "# Add total col as sum of individuals and family_members\n",
        "____\n",
        "\n",
        "# Add p_individuals col as proportion of individuals\n",
        "____\n",
        "\n",
        "# See the result\n",
        "print(homelessness)"
      ]
    },
    {
      "cell_type": "markdown",
      "metadata": {
        "id": "nU1T0AwEz5dR"
      },
      "source": [
        "1. Add a column to homelessness, indiv_per_10k, containing the number of homeless individuals per ten thousand people in each state.\n",
        "2. Subset rows where indiv_per_10k is higher than 20, assigning to high_homelessness.\n",
        "3. Sort high_homelessness by descending indiv_per_10k, assigning to high_homelessness_srt.\n",
        "4. Select only the state and indiv_per_10k columns of high_homelessness_srt and save as result. Look at the result."
      ]
    },
    {
      "cell_type": "code",
      "execution_count": null,
      "metadata": {
        "id": "IybcAnQ2z5DU"
      },
      "outputs": [],
      "source": [
        "# Create indiv_per_10k col as homeless individuals per 10k state pop\n",
        "homelessness[\"indiv_per_10k\"] = 10000 * ____ / ____ \n",
        "\n",
        "# Subset rows for indiv_per_10k greater than 20\n",
        "high_homelessness = ____\n",
        "\n",
        "# Sort high_homelessness by descending indiv_per_10k\n",
        "high_homelessness_srt = ____\n",
        "\n",
        "# From high_homelessness_srt, select the state and indiv_per_10k cols\n",
        "result = ____\n",
        "\n",
        "# See the result\n",
        "print(result)"
      ]
    }
  ],
  "metadata": {
    "colab": {
      "name": "04. Transforming DataFrames Exercise.ipynb",
      "provenance": []
    },
    "kernelspec": {
      "display_name": "Python 3",
      "name": "python3"
    },
    "language_info": {
      "codemirror_mode": {
        "name": "ipython",
        "version": 3
      },
      "file_extension": ".py",
      "mimetype": "text/x-python",
      "name": "python",
      "nbconvert_exporter": "python",
      "pygments_lexer": "ipython3",
      "version": "3.9.7"
    }
  },
  "nbformat": 4,
  "nbformat_minor": 0
}
